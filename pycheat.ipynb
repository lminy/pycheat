{
 "cells": [
  {
   "cell_type": "markdown",
   "metadata": {},
   "source": [
    "# Pycheat - Python Cheatsheet"
   ]
  },
  {
   "cell_type": "markdown",
   "metadata": {},
   "source": [
    "When not specified: Python3  \n",
    "Link in markdown: \\[blue_text](url_here)  \n",
    "[Help for markdown](https://commonmark.org/help/tutorial/index.html)  \n",
    "[Built-in magic Jupyter commands](https://ipython.readthedocs.io/en/stable/interactive/magics.html)"
   ]
  },
  {
   "cell_type": "code",
   "execution_count": 7,
   "metadata": {},
   "outputs": [
    {
     "data": {
      "text/latex": [
       "\\begin{equation}\n",
       "H← ​​​60 ​+​ \\frac{​​30(B−R)​​}{Vmax−Vmin}  ​​, if V​max​​ = G\n",
       "\\end{equation}"
      ],
      "text/plain": [
       "<IPython.core.display.Latex object>"
      ]
     },
     "metadata": {},
     "output_type": "display_data"
    }
   ],
   "source": [
    "%%latex\n",
    "\\begin{equation}\n",
    "H← ​​​60 ​+​ \\frac{​​30(B−R)​​}{Vmax−Vmin}  ​​, if V​max​​ = G\n",
    "\\end{equation}"
   ]
  },
  {
   "cell_type": "code",
   "execution_count": 1,
   "metadata": {},
   "outputs": [
    {
     "ename": "SyntaxError",
     "evalue": "invalid syntax (<ipython-input-1-da77e709f55d>, line 1)",
     "output_type": "error",
     "traceback": [
      "\u001b[0;36m  File \u001b[0;32m\"<ipython-input-1-da77e709f55d>\"\u001b[0;36m, line \u001b[0;32m1\u001b[0m\n\u001b[0;31m    To run a bash command simple use the exclamation mark at the beginning of a line\u001b[0m\n\u001b[0m         ^\u001b[0m\n\u001b[0;31mSyntaxError\u001b[0m\u001b[0;31m:\u001b[0m invalid syntax\n"
     ]
    }
   ],
   "source": [
    "To run a bash command simple use the exclamation mark at the beginning of a line\n",
    "!echo test"
   ]
  },
  {
   "cell_type": "markdown",
   "metadata": {},
   "source": [
    "## Naming convention\n",
    "[difference between module/class/package](https://softwareengineering.stackexchange.com/a/111882/195918)"
   ]
  },
  {
   "cell_type": "markdown",
   "metadata": {},
   "source": [
    "[PEP 0008](https://www.python.org/dev/peps/pep-0008/#package-and-module-names) tells that:\n",
    "\n",
    "- **modules (filenames)**: should have short, all-lowercase names, and they can contain underscores;\n",
    "- **packages (directories)**: should have short, all-lowercase names, preferably without underscores;\n",
    "- **classes**: should use the CapWords convention.\n",
    "\n",
    "    "
   ]
  },
  {
   "cell_type": "markdown",
   "metadata": {},
   "source": [
    "## Misc"
   ]
  },
  {
   "cell_type": "code",
   "execution_count": 12,
   "metadata": {},
   "outputs": [
    {
     "name": "stdout",
     "output_type": "stream",
     "text": [
      "12.9 ms ± 1.49 ms per loop (mean ± std. dev. of 7 runs, 100 loops each)\n"
     ]
    }
   ],
   "source": [
    "# Computing time for a line\n",
    "%timeit [i for i in range(100000)]"
   ]
  },
  {
   "cell_type": "code",
   "execution_count": 2,
   "metadata": {},
   "outputs": [
    {
     "name": "stdout",
     "output_type": "stream",
     "text": [
      "36.3 µs ± 0 ns per loop (mean ± std. dev. of 1 run, 10000 loops each)\n"
     ]
    }
   ],
   "source": [
    "%%timeit # must be at the top of the cell => -r 1 to run only one time\n",
    "\n",
    "# Computing time for a cell\n",
    "for i in range(1000):\n",
    "    i"
   ]
  },
  {
   "cell_type": "markdown",
   "metadata": {},
   "source": [
    "## Lists"
   ]
  },
  {
   "cell_type": "code",
   "execution_count": null,
   "metadata": {},
   "outputs": [],
   "source": [
    "xs = [1,2,3,4,5]\n",
    "ys = [6,7,8,9,10]"
   ]
  },
  {
   "cell_type": "code",
   "execution_count": 25,
   "metadata": {},
   "outputs": [
    {
     "data": {
      "text/plain": [
       "[1, 2, 3, 4, 5, 6, 7, 8, 9, 10]"
      ]
     },
     "execution_count": 25,
     "metadata": {},
     "output_type": "execute_result"
    }
   ],
   "source": [
    "xs + ys # List concatenation"
   ]
  },
  {
   "cell_type": "markdown",
   "metadata": {},
   "source": [
    "## Dictionnaries"
   ]
  },
  {
   "cell_type": "code",
   "execution_count": 11,
   "metadata": {},
   "outputs": [
    {
     "name": "stdout",
     "output_type": "stream",
     "text": [
      "Counter({'eggs': 3, 'ham': 1, 'chesse': 1})\n",
      "[('eggs', 3), ('ham', 1)]\n"
     ]
    }
   ],
   "source": [
    "from collections import Counter\n",
    "# Counter\n",
    "c = Counter(['eggs', 'ham', 'eggs'])\n",
    "c.update(['eggs', 'chesse'])\n",
    "print(c)\n",
    "print(c.most_common(2))"
   ]
  },
  {
   "cell_type": "markdown",
   "metadata": {},
   "source": [
    "## String formatting"
   ]
  },
  {
   "cell_type": "markdown",
   "metadata": {},
   "source": [
    "[pyformat.info](https://pyformat.info/)"
   ]
  },
  {
   "cell_type": "code",
   "execution_count": 2,
   "metadata": {},
   "outputs": [
    {
     "data": {
      "text/plain": [
       "'two one'"
      ]
     },
     "execution_count": 2,
     "metadata": {},
     "output_type": "execute_result"
    }
   ],
   "source": [
    "'{1} {0}'.format('one', 'two')"
   ]
  },
  {
   "cell_type": "code",
   "execution_count": 7,
   "metadata": {},
   "outputs": [
    {
     "data": {
      "text/plain": [
       "'{ one 2 }'"
      ]
     },
     "execution_count": 7,
     "metadata": {},
     "output_type": "execute_result"
    }
   ],
   "source": [
    "'{{ {} {} }}'.format('one', 2)"
   ]
  },
  {
   "cell_type": "code",
   "execution_count": 6,
   "metadata": {},
   "outputs": [],
   "source": [
    "multiline_string = \"a first line\"  \\\n",
    "                   \"a second line\""
   ]
  },
  {
   "cell_type": "code",
   "execution_count": 5,
   "metadata": {},
   "outputs": [
    {
     "name": "stdout",
     "output_type": "stream",
     "text": [
      "2606.90\n",
      "21.00\n"
     ]
    }
   ],
   "source": [
    "# To keep the zeroes at the end\n",
    "print('{:.2f}'.format(round(2606.89579999999, 2)))\n",
    "print('{:.2f}'.format(21))"
   ]
  },
  {
   "cell_type": "markdown",
   "metadata": {},
   "source": [
    "## Loops"
   ]
  },
  {
   "cell_type": "code",
   "execution_count": 2,
   "metadata": {},
   "outputs": [],
   "source": [
    "some_list = [\"bananas\", \"apples\", \"mangos\"]"
   ]
  },
  {
   "cell_type": "code",
   "execution_count": 2,
   "metadata": {},
   "outputs": [
    {
     "name": "stdout",
     "output_type": "stream",
     "text": [
      "bananas is at index 0\n",
      "apples is at index 1\n",
      "mangos is at index 2\n"
     ]
    }
   ],
   "source": [
    "for index, value in enumerate(some_list):\n",
    "    print(value + \" is at index \" + str(index))"
   ]
  },
  {
   "cell_type": "code",
   "execution_count": 3,
   "metadata": {},
   "outputs": [],
   "source": [
    "some_dict = {'three': 3, 'one': 1, 'two': 2}"
   ]
  },
  {
   "cell_type": "code",
   "execution_count": 5,
   "metadata": {},
   "outputs": [
    {
     "name": "stdout",
     "output_type": "stream",
     "text": [
      "three is 3\n",
      "one is 1\n",
      "two is 2\n"
     ]
    }
   ],
   "source": [
    "for key, value in some_dict.items(): # Python 2.7 : iteritems()\n",
    "    print(key + \" is \" + str(value))"
   ]
  },
  {
   "cell_type": "code",
   "execution_count": 5,
   "metadata": {},
   "outputs": [
    {
     "data": {
      "text/plain": [
       "['apples', 'mangos']"
      ]
     },
     "execution_count": 5,
     "metadata": {},
     "output_type": "execute_result"
    }
   ],
   "source": [
    "# Filter elements in comprehension list\n",
    "[x for x in some_list if x != 'bananas']"
   ]
  },
  {
   "cell_type": "markdown",
   "metadata": {},
   "source": [
    "## Files"
   ]
  },
  {
   "cell_type": "code",
   "execution_count": 29,
   "metadata": {},
   "outputs": [
    {
     "data": {
      "text/plain": [
       "False"
      ]
     },
     "execution_count": 29,
     "metadata": {},
     "output_type": "execute_result"
    }
   ],
   "source": [
    "import os\n",
    "# Check file existance\n",
    "os.path.exists('./file_or_link_or_dir_or_sym')\n",
    "os.path.isdir('./folder/')\n",
    "os.path.isfile('./file')"
   ]
  },
  {
   "cell_type": "code",
   "execution_count": 39,
   "metadata": {},
   "outputs": [
    {
     "data": {
      "text/plain": [
       "['python_cheatsheet.ipynb', '__main__.log', '.ipynb_checkpoints']"
      ]
     },
     "execution_count": 39,
     "metadata": {},
     "output_type": "execute_result"
    }
   ],
   "source": [
    "os.listdir('.')\n",
    "#os.remove(\"dir_or_file_or_etc\")"
   ]
  },
  {
   "cell_type": "code",
   "execution_count": null,
   "metadata": {},
   "outputs": [],
   "source": [
    "import shutil\n",
    "import os\n",
    "def copytree(src, dst, symlinks=False, ignore=None):\n",
    "    for item in os.listdir(src):\n",
    "        s = os.path.join(src, item)\n",
    "        d = os.path.join(dst, item)\n",
    "        if os.path.isdir(s):\n",
    "            shutil.copytree(s, d, symlinks, ignore)\n",
    "        else:\n",
    "            shutil.copy2(s, d)\n"
   ]
  },
  {
   "cell_type": "code",
   "execution_count": 6,
   "metadata": {},
   "outputs": [],
   "source": [
    "# source: https://gist.github.com/seanh/93666\n",
    "def format_filename(s):\n",
    "    \"\"\"Take a string and return a valid filename constructed from the string.\n",
    "Uses a whitelist approach: any characters not present in valid_chars are\n",
    "removed. Also spaces are replaced with underscores.\n",
    " \n",
    "Note: this method may produce invalid filenames such as ``, `.` or `..`\n",
    "When I use this method I prepend a date string like '2009_01_15_19_46_32_'\n",
    "and append a file extension like '.txt', so I avoid the potential of using\n",
    "an invalid filename.\n",
    " \n",
    "\"\"\"\n",
    "    valid_chars = \"-_.() %s%s\" % (string.ascii_letters, string.digits)\n",
    "    filename = ''.join(c for c in s if c in valid_chars)\n",
    "    filename = filename.replace(' ','_') # I don't like spaces in filenames.\n",
    "    return filename"
   ]
  },
  {
   "cell_type": "markdown",
   "metadata": {},
   "source": [
    "## Functions"
   ]
  },
  {
   "cell_type": "code",
   "execution_count": 34,
   "metadata": {},
   "outputs": [
    {
     "name": "stdout",
     "output_type": "stream",
     "text": [
      "myfunction\n"
     ]
    }
   ],
   "source": [
    "def a_function():\n",
    "    print(\"myfunction\")\n",
    " \n",
    "if __name__ == '__main__': # If module (file) imported this part of the code will not be executed\n",
    "    a_function()"
   ]
  },
  {
   "cell_type": "code",
   "execution_count": 38,
   "metadata": {},
   "outputs": [
    {
     "name": "stdout",
     "output_type": "stream",
     "text": [
      "params : first_param, second_param\n"
     ]
    }
   ],
   "source": [
    "def multi_parameters_func(*params):\n",
    "    print(\"params : {}\".format(', '.join(params)))\n",
    "multi_parameters_func(\"first_param\", \"second_param\")\n",
    "# other example: see benchmark function below ;)"
   ]
  },
  {
   "cell_type": "markdown",
   "metadata": {},
   "source": [
    "## Functionnal"
   ]
  },
  {
   "cell_type": "markdown",
   "metadata": {},
   "source": [
    "[reduce_fold_left_python_haskell](https://eli.thegreenplace.net/2017/right-and-left-folds-primitive-recursion-patterns-in-python-and-haskell/)"
   ]
  },
  {
   "cell_type": "code",
   "execution_count": 19,
   "metadata": {},
   "outputs": [],
   "source": [
    "xs = [1,2,3,4,5]\n",
    "ys = [6,7,8,9,10]"
   ]
  },
  {
   "cell_type": "code",
   "execution_count": 20,
   "metadata": {},
   "outputs": [
    {
     "data": {
      "text/plain": [
       "[10, 20, 30, 40, 50]"
      ]
     },
     "execution_count": 20,
     "metadata": {},
     "output_type": "execute_result"
    }
   ],
   "source": [
    " list(map(lambda a: a*10, xs))"
   ]
  },
  {
   "cell_type": "code",
   "execution_count": 21,
   "metadata": {},
   "outputs": [
    {
     "data": {
      "text/plain": [
       "[7, 9, 11, 13, 15]"
      ]
     },
     "execution_count": 21,
     "metadata": {},
     "output_type": "execute_result"
    }
   ],
   "source": [
    "# map with 2 arguments\n",
    "list(map(lambda x,y: x+y, xs,ys))"
   ]
  },
  {
   "cell_type": "code",
   "execution_count": 22,
   "metadata": {},
   "outputs": [
    {
     "data": {
      "text/plain": [
       "[2, 4]"
      ]
     },
     "execution_count": 22,
     "metadata": {},
     "output_type": "execute_result"
    }
   ],
   "source": [
    "list(filter(lambda x: x%2==0,xs))"
   ]
  },
  {
   "cell_type": "code",
   "execution_count": 24,
   "metadata": {},
   "outputs": [
    {
     "data": {
      "text/plain": [
       "15"
      ]
     },
     "execution_count": 24,
     "metadata": {},
     "output_type": "execute_result"
    }
   ],
   "source": [
    "import functools\n",
    "functools.reduce(lambda acc, x: acc+x, xs, 0) # ((((1+2)+3)+4)+5)  == Fold left in Haskell "
   ]
  },
  {
   "cell_type": "code",
   "execution_count": 2,
   "metadata": {},
   "outputs": [
    {
     "name": "stdout",
     "output_type": "stream",
     "text": [
      "8\n"
     ]
    }
   ],
   "source": [
    "# Partial functions (e.g. useful to use with map when needing to pass a param)\n",
    "import functools\n",
    "def multiply(x,y):\n",
    "        return x * y\n",
    "\n",
    "dbl = functools.partial(multiply,2) # create a new function that multiplies by 2\n",
    "print(dbl(4))"
   ]
  },
  {
   "cell_type": "markdown",
   "metadata": {},
   "source": [
    "## Logs"
   ]
  },
  {
   "cell_type": "code",
   "execution_count": 10,
   "metadata": {},
   "outputs": [
    {
     "name": "stderr",
     "output_type": "stream",
     "text": [
      "2018-07-23 15:30:33,168\t__main__\tINFO\t\tLogger created!\n",
      "2018-07-23 15:30:33,172\t__main__\tINFO\t\tThis is a log\n"
     ]
    }
   ],
   "source": [
    "import logging\n",
    "\n",
    "def create_logger(loglevel):\n",
    "    numeric_level = getattr(logging, loglevel.upper(), logging.INFO)\n",
    "    if not isinstance(numeric_level, int):\n",
    "        raise ValueError('Invalid log level: %s' % loglevel)\n",
    "\n",
    "    #import sys\n",
    "    #import os\n",
    "    #module_name = str(os.path.basename(sys.modules['__main__'].__file__)).split('.')[0]\n",
    "    module_name = __name__\n",
    "    \n",
    "    logger = logging.getLogger(module_name)\n",
    "    logger.setLevel(numeric_level)\n",
    "    # create file handler which logs even debug messages\n",
    "    fh = logging.FileHandler(module_name + '.log')\n",
    "    fh.setLevel(logging.DEBUG)\n",
    "    # create console handler with a higher log level\n",
    "    ch = logging.StreamHandler()\n",
    "    ch.setLevel(logging.INFO)\n",
    "    # create formatter and add it to the handlers\n",
    "    formatter = logging.Formatter('%(asctime)s\\t%(name)s\\t%(levelname)s\\t\\t%(message)s')\n",
    "    fh.setFormatter(formatter)\n",
    "    ch.setFormatter(formatter)\n",
    "    # add the handlers to the logger\n",
    "    logger.addHandler(fh)\n",
    "    logger.addHandler(ch)\n",
    "    logger.info(\"Logger created!\")\n",
    "    return logger\n",
    "\n",
    "logger = create_logger(\"info\")\n",
    "logger.info(\"This is a log\")"
   ]
  },
  {
   "cell_type": "markdown",
   "metadata": {},
   "source": [
    "## Various tools"
   ]
  },
  {
   "cell_type": "code",
   "execution_count": 13,
   "metadata": {},
   "outputs": [
    {
     "name": "stdout",
     "output_type": "stream",
     "text": [
      "Function sum - execution time : 0:00:00.000002\n",
      "Result : 3\n",
      "Function test - execution time : 0:00:00.000820\n",
      "Result : 49995000\n"
     ]
    }
   ],
   "source": [
    "def benchmark(func, *params):\n",
    "    import datetime\n",
    "    import time\n",
    "    start_time = time.time()\n",
    "    return_value = func(*params) if params else func()\n",
    "    total_time = datetime.timedelta(seconds=time.time() - start_time)\n",
    "    print(\"Function \" + func.__name__ + \" - execution time : \" + str(total_time))#.strftime('%H:%M:%S'))\n",
    "    return return_value\n",
    "\n",
    "def test():\n",
    "    total = 0\n",
    "    for i in range(0, 10000):\n",
    "        total +=i\n",
    "    return total\n",
    "\n",
    "def sum(param1, param2):\n",
    "    return param1 + param2\n",
    "\n",
    "result = benchmark(sum, 1, 2)\n",
    "print(\"Result : \" + str(result))\n",
    "\n",
    "result = benchmark(test)\n",
    "print(\"Result : \" + str(result))"
   ]
  },
  {
   "cell_type": "code",
   "execution_count": 42,
   "metadata": {},
   "outputs": [
    {
     "name": "stdout",
     "output_type": "stream",
     "text": [
      "2.8423709931771093\n"
     ]
    }
   ],
   "source": [
    "import math\n",
    "def entropy(string):\n",
    "    \"Calculates the Shannon entropy of a string\"\n",
    "\n",
    "    # get probability of chars in string\n",
    "    prob = [float(string.count(c)) / len(string) for c in dict.fromkeys(list(string))]\n",
    "\n",
    "    # calculate the entropy\n",
    "    entropy = - sum([p * math.log(p) / math.log(2.0) for p in prob])\n",
    "\n",
    "    return entropy\n",
    "\n",
    "print(entropy(\"www.google.com\"))"
   ]
  },
  {
   "cell_type": "code",
   "execution_count": 48,
   "metadata": {},
   "outputs": [
    {
     "name": "stdout",
     "output_type": "stream",
     "text": [
      "True\n",
      "True\n",
      "True\n",
      "False\n",
      "False\n",
      "False\n"
     ]
    }
   ],
   "source": [
    "def is_ipv4(ipv4_string):\n",
    "    l = ipv4_string.split('.')\n",
    "    if len(l) != 4:\n",
    "        return False\n",
    "    try:\n",
    "        ip = list(map(int, l))\n",
    "    except ValueError:\n",
    "        return False\n",
    "    if len(list(filter(lambda x: 0 <= x <= 255, ip))) == 4:\n",
    "        return True\n",
    "    return False\n",
    "\n",
    "# True\n",
    "print(is_ipv4(\"192.168.1.1\"))\n",
    "print(is_ipv4(\"0.0.0.0\"))\n",
    "print(is_ipv4(\"255.255.255.255\"))\n",
    "\n",
    "# False\n",
    "print(is_ipv4(\"255.255.255\"))\n",
    "print(is_ipv4(\"255.255.255.255.3\"))\n",
    "print(is_ipv4(\"255.255.255.erzr\"))\n"
   ]
  },
  {
   "cell_type": "markdown",
   "metadata": {},
   "source": [
    "# Pandas dataframes"
   ]
  },
  {
   "cell_type": "markdown",
   "metadata": {},
   "source": [
    "[Pandas tips and tricks](https://towardsdatascience.com/pandas-tips-and-tricks-33bcc8a40bb9)"
   ]
  },
  {
   "cell_type": "code",
   "execution_count": null,
   "metadata": {},
   "outputs": [],
   "source": [
    "import pandas as pd\n",
    "\n",
    "df = pd.DataFrame(data, columns=features_name)\n",
    "    \n",
    "import csv\n",
    "df.to_csv(c.model_folder + filename, sep=',', encoding='utf-8', index=False, quoting=csv.QUOTE_NONNUMERIC)\n",
    "\n",
    "#df = pd.read_csv(c.model_folder + \"features.csv\")\n",
    "\n",
    "# Print a summary of 5 first rows\n",
    "df.head(5)\n",
    "\n",
    "# check the data frame info\n",
    "df.info()\n",
    "\n",
    "# Get unique values of a column\n",
    "df['continent'].unique().tolist()\n",
    "\n",
    "# To add a new column and set all rows to a specific value\n",
    "df['Name'] = 'abc'\n",
    "\n",
    "# Using DataFrame.drop\n",
    "df.drop(df.columns[[1, 2]], axis=1, inplace=True)\n",
    "\n",
    "# drop by Name\n",
    "df1 = df1.drop(['B', 'C'], axis=1)\n",
    "\n",
    "# Select the ones you want\n",
    "df1 = df[['a','d']]\n",
    "\n",
    "column_names = df.index\n",
    "data = df.values\n",
    "\n",
    "# Where condition\n",
    "df.loc[df['label'] == 'NORMAL']\n",
    "\n",
    "# Select column(s)\n",
    "df[f_name]\n",
    "\n",
    "# Count number of != values\n",
    "df[f_name].value_counts()\n",
    "\n",
    "# Put a column at the end\n",
    "df_label = df.pop('label') # remove column 'label' and store it in df_label\n",
    "df['label'] = df_label # add label as a 'new' column.\n",
    "\n",
    "# To modify a specific cell\n",
    "df.loc[df['key'] == 'mykey', \"column_name\"] = 1\n",
    "\n",
    "\n",
    "# To iter over rows\n",
    "for index, row in df.iterrows(): # row is a copy of the row from the dataframe\n",
    "    print row['c1'], row['c2']\n",
    "    \n",
    "    # To modify the row: use the index to access the row in the dataframe\n",
    "    df.loc[index, 'wgs1984_latitude'] = dict_temp['lat']\n",
    "    \n",
    "# To sum rows\n",
    "df = df.sum(axis=1)\n",
    "\n",
    "# To sum columns\n",
    "normal_counts = df.[\"col_name\"].sum()"
   ]
  },
  {
   "cell_type": "markdown",
   "metadata": {},
   "source": [
    "## OS"
   ]
  },
  {
   "cell_type": "code",
   "execution_count": null,
   "metadata": {},
   "outputs": [],
   "source": [
    "import subprocess\n",
    "# Run command \n",
    "subprocess.Popen([\"bro\", \"-C\", \"-r\", \"../\"+filename], cwd=working_dir).wait()"
   ]
  },
  {
   "cell_type": "markdown",
   "metadata": {},
   "source": [
    "## Web requests (requests & BeautifulSoup)\n",
    "- [requests doc](http://docs.python-requests.org/en/master/)\n",
    "- [BeautifulSoup doc](https://www.crummy.com/software/BeautifulSoup/bs4/doc/)"
   ]
  },
  {
   "cell_type": "code",
   "execution_count": 3,
   "metadata": {},
   "outputs": [],
   "source": [
    "import requests\n",
    "from bs4 import BeautifulSoup"
   ]
  },
  {
   "cell_type": "code",
   "execution_count": 4,
   "metadata": {},
   "outputs": [],
   "source": [
    "url = \"http://www.test.com\"\n",
    "cookies = {\n",
    "    'Cookie':'some_value',\n",
    "}\n",
    "r = requests.get(url, cookies=cookies)\n",
    "\n",
    "#print(r.text)\n",
    "\n",
    "soup = BeautifulSoup(r.content, \"html5lib\")"
   ]
  },
  {
   "cell_type": "code",
   "execution_count": 5,
   "metadata": {},
   "outputs": [],
   "source": [
    "#Scan the URLs present on the page\n",
    "for link in soup.find_all('a'):\n",
    "    href = link.get('href')\n",
    "    if str(href).startswith(\"http\"): # To exclude refs that are links to paragraphs on the page (like #maincontent)\n",
    "        print(href)"
   ]
  },
  {
   "cell_type": "code",
   "execution_count": 1,
   "metadata": {},
   "outputs": [],
   "source": [
    "def is_downloadable(url):\n",
    "    \"\"\"\n",
    "    Does the url contain a downloadable resource\n",
    "    \"\"\"\n",
    "    h = requests.head(url, allow_redirects=True, cookies=cookies)\n",
    "    header = h.headers\n",
    "    content_type = header.get('content-type')\n",
    "    if 'text' in content_type.lower():\n",
    "        return False\n",
    "    if 'html' in content_type.lower():\n",
    "        return False\n",
    "    return True"
   ]
  },
  {
   "cell_type": "code",
   "execution_count": null,
   "metadata": {},
   "outputs": [],
   "source": [
    "# Decode URL\n",
    "from urllib.parse import unquote\n",
    "url = unquote(url)"
   ]
  }
 ],
 "metadata": {
  "kernelspec": {
   "display_name": "Python 3",
   "language": "python",
   "name": "python3"
  },
  "language_info": {
   "codemirror_mode": {
    "name": "ipython",
    "version": 3
   },
   "file_extension": ".py",
   "mimetype": "text/x-python",
   "name": "python",
   "nbconvert_exporter": "python",
   "pygments_lexer": "ipython3",
   "version": "3.7.0"
  }
 },
 "nbformat": 4,
 "nbformat_minor": 2
}
